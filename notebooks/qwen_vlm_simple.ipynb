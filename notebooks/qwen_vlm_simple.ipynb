{
 "cells": [
  {
   "cell_type": "markdown",
   "metadata": {},
   "source": [
    "# Simple Qwen2.5-VL-7B-Instruct Inference for Document Extraction\n",
    "\n",
    "This notebook demonstrates a simplified approach to using Qwen2.5-VL-7B-Instruct for extracting structured information from documents."
   ]
  },
  {
   "cell_type": "markdown",
   "metadata": {},
   "source": [
    "## 1. Install Dependencies"
   ]
  },
  {
   "cell_type": "code",
   "execution_count": null,
   "metadata": {},
   "outputs": [],
   "source": [
    "!pip install qwen-vl-utils transformers torch torchvision accelerate"
   ]
  },
  {
   "cell_type": "markdown",
   "metadata": {},
   "source": [
    "## 2. Import Libraries and Load Model"
   ]
  },
  {
   "cell_type": "code",
   "execution_count": null,
   "metadata": {},
   "outputs": [],
   "source": [
    "from transformers import Qwen2VLForConditionalGeneration, AutoProcessor\n",
    "from qwen_vl_utils import process_vision_info\n",
    "import torch\n",
    "from PIL import Image\n",
    "import json\n",
    "\n",
    "# Model configuration\n",
    "model_name = \"Qwen/Qwen2-VL-7B-Instruct\"\n",
    "\n",
    "# Load model with automatic device mapping\n",
    "model = Qwen2VLForConditionalGeneration.from_pretrained(\n",
    "    model_name,\n",
    "    torch_dtype=\"auto\",\n",
    "    device_map=\"auto\"\n",
    ")\n",
    "\n",
    "# Load processor\n",
    "processor = AutoProcessor.from_pretrained(model_name)\n",
    "\n",
    "print(\"Model loaded successfully!\")"
   ]
  },
  {
   "cell_type": "markdown",
   "metadata": {},
   "source": [
    "## 3. Simple Inference Function"
   ]
  },
  {
   "cell_type": "code",
   "execution_count": null,
   "metadata": {},
   "outputs": [],
   "source": [
    "def extract_from_image(image_path, prompt):\n",
    "    \"\"\"\n",
    "    Extract information from an image using Qwen2.5-VL.\n",
    "    \n",
    "    Args:\n",
    "        image_path: Path to the image file\n",
    "        prompt: The extraction prompt\n",
    "    \n",
    "    Returns:\n",
    "        Extracted text from the model\n",
    "    \"\"\"\n",
    "    # Prepare messages\n",
    "    messages = [\n",
    "        {\n",
    "            \"role\": \"user\",\n",
    "            \"content\": [\n",
    "                {\n",
    "                    \"type\": \"image\",\n",
    "                    \"image\": image_path,\n",
    "                },\n",
    "                {\"type\": \"text\", \"text\": prompt},\n",
    "            ],\n",
    "        }\n",
    "    ]\n",
    "    \n",
    "    # Prepare inputs\n",
    "    text = processor.apply_chat_template(\n",
    "        messages, tokenize=False, add_generation_prompt=True\n",
    "    )\n",
    "    image_inputs, video_inputs = process_vision_info(messages)\n",
    "    inputs = processor(\n",
    "        text=[text],\n",
    "        images=image_inputs,\n",
    "        videos=video_inputs,\n",
    "        padding=True,\n",
    "        return_tensors=\"pt\",\n",
    "    )\n",
    "    inputs = inputs.to(\"cuda\" if torch.cuda.is_available() else \"cpu\")\n",
    "    \n",
    "    # Generate response\n",
    "    generated_ids = model.generate(**inputs, max_new_tokens=512)\n",
    "    generated_ids_trimmed = [\n",
    "        out_ids[len(in_ids):] for in_ids, out_ids in zip(inputs.input_ids, generated_ids)\n",
    "    ]\n",
    "    output_text = processor.batch_decode(\n",
    "        generated_ids_trimmed, skip_special_tokens=True, clean_up_tokenization_spaces=False\n",
    "    )[0]\n",
    "    \n",
    "    return output_text"
   ]
  },
  {
   "cell_type": "markdown",
   "metadata": {},
   "source": [
    "## 4. Document Extraction Examples"
   ]
  },
  {
   "cell_type": "code",
   "execution_count": null,
   "metadata": {},
   "outputs": [],
   "source": [
    "# Example 1: Invoice Extraction\n",
    "invoice_prompt = \"\"\"Extract all information from this invoice and return it as a JSON object with the following structure:\n",
    "{\n",
    "    \"invoice_number\": \"\",\n",
    "    \"date\": \"\",\n",
    "    \"vendor\": {\n",
    "        \"name\": \"\",\n",
    "        \"address\": \"\"\n",
    "    },\n",
    "    \"customer\": {\n",
    "        \"name\": \"\",\n",
    "        \"address\": \"\"\n",
    "    },\n",
    "    \"items\": [\n",
    "        {\n",
    "            \"description\": \"\",\n",
    "            \"quantity\": 0,\n",
    "            \"unit_price\": 0,\n",
    "            \"total\": 0\n",
    "        }\n",
    "    ],\n",
    "    \"subtotal\": 0,\n",
    "    \"tax\": 0,\n",
    "    \"total\": 0\n",
    "}\"\"\"\n",
    "\n",
    "# Replace with your image path\n",
    "# result = extract_from_image(\"path/to/invoice.jpg\", invoice_prompt)\n",
    "# print(result)"
   ]
  },
  {
   "cell_type": "markdown",
   "source": "## Expected Output for the Invoice\n\nBased on the invoice image, the model should extract:\n- Invoice no: 97159829\n- Date: 09/18/2015\n- Seller: Bradley-Andrade, address: 9879 Elizabeth Common, Lake Jonathan, RI 12335\n- Client: Castro PLC, Unit 9678 Box 9664, DPO AP 69387\n- Item: 12\" Marble Lapis Inlay Chess Table Top With 2\" Pieces & 15\" Wooden Stand W537\n- Total: $978.12",
   "metadata": {}
  },
  {
   "cell_type": "code",
   "source": "# Test with the actual invoice image\nimage_path = \"./images/invoice.png\"\n\n# Define extraction prompt\ninvoice_prompt = \"\"\"Extract all information from this invoice and return it as a JSON object with the following structure:\n{\n    \"invoice_number\": \"\",\n    \"date\": \"\",\n    \"seller\": {\n        \"name\": \"\",\n        \"address\": \"\",\n        \"tax_id\": \"\",\n        \"iban\": \"\"\n    },\n    \"client\": {\n        \"name\": \"\",\n        \"address\": \"\",\n        \"tax_id\": \"\"\n    },\n    \"items\": [\n        {\n            \"description\": \"\",\n            \"quantity\": 0,\n            \"unit\": \"\",\n            \"net_price\": 0,\n            \"net_worth\": 0,\n            \"vat_percent\": 0,\n            \"gross_worth\": 0\n        }\n    ],\n    \"summary\": {\n        \"net_worth\": 0,\n        \"vat\": 0,\n        \"gross_worth\": 0\n    }\n}\"\"\"\n\n# Extract information\ntry:\n    result = extract_from_image(image_path, invoice_prompt)\n    print(\"Extraction successful!\")\n    print(\"\\nExtracted data:\")\n    print(result)\n    \n    # Try to parse as JSON\n    try:\n        json_result = json.loads(result)\n        print(\"\\nParsed JSON:\")\n        print(json.dumps(json_result, indent=2))\n    except:\n        print(\"\\nNote: Output is not valid JSON, showing raw text\")\n        \nexcept Exception as e:\n    print(f\"Error during extraction: {e}\")\n    print(\"\\nNote: The model requires significant memory (20+ GB). Consider using:\")\n    print(\"- A cloud GPU service (Colab, Kaggle, etc.)\")\n    print(\"- Quantization (4-bit or 8-bit)\")\n    print(\"- A smaller model variant\")\n    print(\"- CPU offloading (will be very slow)\")",
   "metadata": {},
   "execution_count": null,
   "outputs": []
  },
  {
   "cell_type": "markdown",
   "source": "## 4.1 Test with Local Invoice Image",
   "metadata": {}
  },
  {
   "cell_type": "code",
   "execution_count": null,
   "metadata": {},
   "outputs": [],
   "source": [
    "# Example 2: Receipt Extraction\n",
    "receipt_prompt = \"\"\"You are a receipt parser. Extract the following information from the receipt image:\n",
    "- Store name\n",
    "- Store address\n",
    "- Date and time\n",
    "- List of items with prices\n",
    "- Subtotal\n",
    "- Tax amount\n",
    "- Total amount\n",
    "- Payment method\n",
    "\n",
    "Format the output as a clean JSON object.\"\"\"\n",
    "\n",
    "# Replace with your image path\n",
    "# result = extract_from_image(\"path/to/receipt.jpg\", receipt_prompt)\n",
    "# print(result)"
   ]
  },
  {
   "cell_type": "code",
   "execution_count": null,
   "metadata": {},
   "outputs": [],
   "source": [
    "# Example 3: ID Card Extraction\n",
    "id_card_prompt = \"\"\"Extract all visible information from this ID card or driver's license.\n",
    "Include:\n",
    "- Full name\n",
    "- Date of birth\n",
    "- ID number\n",
    "- Address\n",
    "- Issue date\n",
    "- Expiry date\n",
    "- Any other visible fields\n",
    "\n",
    "Return as structured JSON.\"\"\"\n",
    "\n",
    "# Replace with your image path\n",
    "# result = extract_from_image(\"path/to/id_card.jpg\", id_card_prompt)\n",
    "# print(result)"
   ]
  },
  {
   "cell_type": "markdown",
   "metadata": {},
   "source": [
    "## 5. Batch Processing"
   ]
  },
  {
   "cell_type": "code",
   "execution_count": null,
   "metadata": {},
   "outputs": [],
   "source": [
    "def batch_extract(image_paths, prompt):\n",
    "    \"\"\"\n",
    "    Process multiple images with the same prompt.\n",
    "    \n",
    "    Args:\n",
    "        image_paths: List of image file paths\n",
    "        prompt: The extraction prompt to use\n",
    "    \n",
    "    Returns:\n",
    "        List of extraction results\n",
    "    \"\"\"\n",
    "    results = []\n",
    "    \n",
    "    for idx, image_path in enumerate(image_paths):\n",
    "        print(f\"Processing image {idx + 1}/{len(image_paths)}: {image_path}\")\n",
    "        try:\n",
    "            result = extract_from_image(image_path, prompt)\n",
    "            results.append({\n",
    "                \"file\": image_path,\n",
    "                \"result\": result,\n",
    "                \"status\": \"success\"\n",
    "            })\n",
    "        except Exception as e:\n",
    "            results.append({\n",
    "                \"file\": image_path,\n",
    "                \"error\": str(e),\n",
    "                \"status\": \"failed\"\n",
    "            })\n",
    "    \n",
    "    return results\n",
    "\n",
    "# Example usage\n",
    "# images = [\"invoice1.jpg\", \"invoice2.jpg\", \"invoice3.jpg\"]\n",
    "# results = batch_extract(images, invoice_prompt)\n",
    "# \n",
    "# # Save results\n",
    "# with open(\"extraction_results.json\", \"w\") as f:\n",
    "#     json.dump(results, f, indent=2)"
   ]
  },
  {
   "cell_type": "markdown",
   "metadata": {},
   "source": [
    "## 6. Advanced Prompting Techniques"
   ]
  },
  {
   "cell_type": "code",
   "execution_count": null,
   "metadata": {},
   "outputs": [],
   "source": [
    "# Few-shot example prompt\n",
    "few_shot_prompt = \"\"\"You are an expert document parser. Here's an example of the expected output format:\n",
    "\n",
    "Example for an invoice:\n",
    "{\n",
    "  \"document_type\": \"invoice\",\n",
    "  \"extracted_data\": {\n",
    "    \"invoice_number\": \"INV-2024-001\",\n",
    "    \"date\": \"2024-01-15\",\n",
    "    \"vendor\": \"ABC Company Ltd.\",\n",
    "    \"total\": 1250.00\n",
    "  }\n",
    "}\n",
    "\n",
    "Now extract information from the provided image in the same format.\"\"\"\n",
    "\n",
    "# Chain-of-thought prompt\n",
    "cot_prompt = \"\"\"Analyze this document step by step:\n",
    "1. First, identify the type of document (invoice, receipt, form, etc.)\n",
    "2. Locate the key fields and their values\n",
    "3. Extract all text maintaining the structure\n",
    "4. Format the extracted information as JSON\n",
    "\n",
    "Let's start:\"\"\"\n",
    "\n",
    "# Specific field extraction\n",
    "field_prompt = \"\"\"Extract only the following fields from this document:\n",
    "- Total amount (look for words like 'Total', 'Amount Due', 'Grand Total')\n",
    "- Document date\n",
    "- Document number/ID\n",
    "\n",
    "Return as: {\"total\": <amount>, \"date\": \"<date>\", \"document_id\": \"<id>\"}\"\"\""
   ]
  },
  {
   "cell_type": "markdown",
   "metadata": {},
   "source": [
    "## 7. Memory-Efficient Loading Options"
   ]
  },
  {
   "cell_type": "code",
   "execution_count": null,
   "metadata": {},
   "outputs": [],
   "source": [
    "# For systems with limited GPU memory\n",
    "def load_model_efficient():\n",
    "    \"\"\"\n",
    "    Load model with memory optimization options.\n",
    "    \"\"\"\n",
    "    # Option 1: Load in 4-bit (requires bitsandbytes)\n",
    "    # from transformers import BitsAndBytesConfig\n",
    "    # \n",
    "    # quantization_config = BitsAndBytesConfig(\n",
    "    #     load_in_4bit=True,\n",
    "    #     bnb_4bit_compute_dtype=torch.float16\n",
    "    # )\n",
    "    # \n",
    "    # model = Qwen2VLForConditionalGeneration.from_pretrained(\n",
    "    #     model_name,\n",
    "    #     quantization_config=quantization_config,\n",
    "    #     device_map=\"auto\"\n",
    "    # )\n",
    "    \n",
    "    # Option 2: CPU offloading\n",
    "    model = Qwen2VLForConditionalGeneration.from_pretrained(\n",
    "        model_name,\n",
    "        device_map=\"auto\",\n",
    "        offload_folder=\"offload\",\n",
    "        torch_dtype=torch.float16\n",
    "    )\n",
    "    \n",
    "    return model"
   ]
  },
  {
   "cell_type": "markdown",
   "metadata": {},
   "source": [
    "## 8. Utility Functions"
   ]
  },
  {
   "cell_type": "code",
   "execution_count": null,
   "metadata": {},
   "outputs": [],
   "source": [
    "def parse_json_output(text):\n",
    "    \"\"\"\n",
    "    Try to extract JSON from model output.\n",
    "    \"\"\"\n",
    "    try:\n",
    "        # Direct parse\n",
    "        return json.loads(text)\n",
    "    except:\n",
    "        # Try to find JSON in the text\n",
    "        import re\n",
    "        json_pattern = r'\\{[^{}]*\\}'\n",
    "        matches = re.findall(json_pattern, text, re.DOTALL)\n",
    "        \n",
    "        for match in matches:\n",
    "            try:\n",
    "                return json.loads(match)\n",
    "            except:\n",
    "                continue\n",
    "        \n",
    "        # Return original text if no JSON found\n",
    "        return {\"raw_text\": text}\n",
    "\n",
    "def save_results(results, filename=\"results.json\"):\n",
    "    \"\"\"\n",
    "    Save extraction results to file.\n",
    "    \"\"\"\n",
    "    with open(filename, \"w\", encoding=\"utf-8\") as f:\n",
    "        json.dump(results, f, indent=2, ensure_ascii=False)\n",
    "    print(f\"Results saved to {filename}\")"
   ]
  }
 ],
 "metadata": {
  "kernelspec": {
   "display_name": "Python 3",
   "language": "python",
   "name": "python3"
  },
  "language_info": {
   "codemirror_mode": {
    "name": "ipython",
    "version": 3
   },
   "file_extension": ".py",
   "mimetype": "text/x-python",
   "name": "python",
   "nbconvert_exporter": "python",
   "pygments_lexer": "ipython3",
   "version": "3.11.0"
  }
 },
 "nbformat": 4,
 "nbformat_minor": 4
}